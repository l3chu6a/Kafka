{
 "cells": [
  {
   "cell_type": "code",
   "execution_count": 1,
   "id": "96759cfd",
   "metadata": {},
   "outputs": [],
   "source": [
    "# Import the Client class from the atproto library\n",
    "from atproto import Client\n",
    "\n",
    "# Instantiate the client object\n",
    "client = Client()\n",
    "\n",
    "# Log in using your Bluesky account credentials\n",
    "# client.login('my-email@example.com', 'password')\n",
    "client.login('l3chu6a.bsky.social', 'Bluesky_005')\n",
    "\n",
    "# Create and send a new post\n",
    "post = client.send_post('Hello World! I posted this via the Python SDK!')"
   ]
  },
  {
   "cell_type": "code",
   "execution_count": 2,
   "id": "e254ede9",
   "metadata": {},
   "outputs": [],
   "source": [
    "data = client.app.bsky.feed.get_feed_generator({\n",
    "    'feed': 'at://did:plc:z72i7hdynmk6r22z27h6tvur/app.bsky.feed.generator/whats-hot'\n",
    "})\n",
    "\n",
    "view = data.view\n",
    "creator = view.creator\n",
    "display_name = view.display_name\n",
    "avatar = view.avatar\n",
    "like_count = view.like_count"
   ]
  },
  {
   "cell_type": "code",
   "execution_count": 3,
   "id": "7615ecc1",
   "metadata": {},
   "outputs": [
    {
     "data": {
      "text/plain": [
       "Response(is_online=True, is_valid=True, view=GeneratorView(cid='bafyreievgu2ty7qbiaaom5zhmkznsnajuzideek3lo7e65dwqlrvrxnmo4', creator=ProfileView(did='did:plc:z72i7hdynmk6r22z27h6tvur', handle='bsky.app', associated=ProfileAssociated(chat=ProfileAssociatedChat(allow_incoming='none', py_type='app.bsky.actor.defs#profileAssociatedChat'), feedgens=None, labeler=None, lists=None, starter_packs=None, py_type='app.bsky.actor.defs#profileAssociated'), avatar='https://cdn.bsky.app/img/avatar/plain/did:plc:z72i7hdynmk6r22z27h6tvur/bafkreihagr2cmvl2jt4mgx3sppwe2it3fwolkrbtjrhcnwjk4jdijhsoze@jpeg', created_at='2023-04-12T04:53:57.057Z', description='official Bluesky account (check username👆)\\n\\nBugs, feature requests, feedback: support@bsky.app', display_name='Bluesky', indexed_at='2024-12-18T07:43:57.542Z', labels=[], verification=VerificationState(trusted_verifier_status='valid', verifications=[], verified_status='none', py_type='app.bsky.actor.defs#verificationState'), viewer=ViewerState(blocked_by=False, blocking=None, blocking_by_list=None, followed_by=None, following='at://did:plc:vdyfn7e5klmhzu3eloagoinw/app.bsky.graph.follow/3lbzpgevl232x', known_followers=None, muted=False, muted_by_list=None, py_type='app.bsky.actor.defs#viewerState'), py_type='app.bsky.actor.defs#profileView'), did='did:web:discover.bsky.app', display_name='Discover', indexed_at='2023-05-19T23:19:19.592Z', uri='at://did:plc:z72i7hdynmk6r22z27h6tvur/app.bsky.feed.generator/whats-hot', accepts_interactions=None, avatar='https://cdn.bsky.app/img/avatar/plain/did:plc:z72i7hdynmk6r22z27h6tvur/bafkreidljdg62x3zhlweyzshoekrw2znokytt5tmib7g4xsngwvpnf6ule@jpeg', content_mode=None, description='Trending content from your personal network', description_facets=None, labels=[], like_count=37236, viewer=GeneratorViewerState(like=None, py_type='app.bsky.feed.defs#generatorViewerState'), py_type='app.bsky.feed.defs#generatorView'))"
      ]
     },
     "execution_count": 3,
     "metadata": {},
     "output_type": "execute_result"
    }
   ],
   "source": [
    "data"
   ]
  },
  {
   "cell_type": "code",
   "execution_count": null,
   "id": "b09e4e83",
   "metadata": {},
   "outputs": [],
   "source": []
  }
 ],
 "metadata": {
  "kernelspec": {
   "display_name": "kafka",
   "language": "python",
   "name": "python3"
  },
  "language_info": {
   "codemirror_mode": {
    "name": "ipython",
    "version": 3
   },
   "file_extension": ".py",
   "mimetype": "text/x-python",
   "name": "python",
   "nbconvert_exporter": "python",
   "pygments_lexer": "ipython3",
   "version": "3.12.4"
  }
 },
 "nbformat": 4,
 "nbformat_minor": 5
}
