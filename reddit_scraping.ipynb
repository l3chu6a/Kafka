{
 "cells": [
  {
   "cell_type": "code",
   "execution_count": null,
   "id": "ed275b47",
   "metadata": {},
   "outputs": [],
   "source": [
    "import praw\n",
    "from pymongo import MongoClient\n",
    "from datetime import datetime\n",
    "from dotenv import load_dotenv\n",
    "import os\n",
    "\n",
    "# Configurar acceso a MongoDB (puerto local del contenedor)\n",
    "mongo_client = MongoClient(\"mongodb://localhost:27017/\")\n",
    "db = mongo_client[\"reddit_db\"]\n",
    "collection = db[\"posts\"]\n",
    "\n",
    "# Configurar Reddit API\n",
    "reddit = praw.Reddit(\n",
    "    # client_id=\"DlBADd1r1IpZj7iISW2K4w\",\n",
    "    # client_secret=\"4ADobVHj_gNbgQulbIf2MCmmLA3uwg\",\n",
    "    # user_agent=\"sab_scraping\"\n",
    "    client_id = os.getenv(\"client_id\"),\n",
    "    client_secret = os.getenv(\"client_secret\"),\n",
    "    user_agent = os.getenv(\"user_agent\")\n",
    ")\n",
    "\n",
    "subreddit = reddit.subreddit(\"worldnews\")\n",
    "\n",
    "# Traer los últimos 100 posts\n",
    "for post in subreddit.new(limit=100):\n",
    "    doc = {\n",
    "        \"titulo\": post.title,\n",
    "        \"texto\": post.selftext,\n",
    "        \"score\": post.score,\n",
    "        \"comentarios\": post.num_comments,\n",
    "        \"fecha_utc\": datetime.utcfromtimestamp(post.created_utc),\n",
    "        \"url\": post.url\n",
    "    }\n",
    "    collection.insert_one(doc)\n",
    "\n",
    "print(\"✅ Datos insertados en MongoDB\")\n"
   ]
  }
 ],
 "metadata": {
  "kernelspec": {
   "display_name": "kafka",
   "language": "python",
   "name": "python3"
  },
  "language_info": {
   "codemirror_mode": {
    "name": "ipython",
    "version": 3
   },
   "file_extension": ".py",
   "mimetype": "text/x-python",
   "name": "python",
   "nbconvert_exporter": "python",
   "pygments_lexer": "ipython3",
   "version": "3.12.4"
  }
 },
 "nbformat": 4,
 "nbformat_minor": 5
}
